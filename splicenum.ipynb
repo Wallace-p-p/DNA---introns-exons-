{
 "cells": [
  {
   "cell_type": "code",
   "execution_count": null,
   "metadata": {
    "collapsed": true
   },
   "outputs": [],
   "source": [
    "def splicenum():\n",
    "    data1= open('splice.data.txt', 'r')\n",
    "    f= data1.readlines()\n",
    "    for i in range(len(f)):\n",
    "        f[i]= f[i].split(',')\n",
    "    for i in range(len(f)):\n",
    "        del(f[i][1])\n",
    "    for i in range(len(f)):\n",
    "        f[i][1]=f[i][1].split()[0]\n",
    "    c=[]\n",
    "    for i in range(len(f)):\n",
    "        b=[]\n",
    "        if f[i][0]=='EI':\n",
    "            b.append(0)\n",
    "        elif f[i][0]=='IE':\n",
    "            b.append(1)\n",
    "        elif f[i][0]=='N':\n",
    "            b.append(2)\n",
    "        a=[]\n",
    "        for j in range(len(f[i][1])):\n",
    "            if f[i][1][j]=='A':\n",
    "                a.append(0)\n",
    "            elif f[i][1][j]=='C':\n",
    "                a.append(1)\n",
    "            elif f[i][1][j]=='G':\n",
    "                a.append(2)\n",
    "            elif f[i][1][j]=='T':\n",
    "                a.append(3)\n",
    "            else:\n",
    "                a.append(8)\n",
    "        b.append(a)\n",
    "        c.append(b)\n",
    "    cdata=[]\n",
    "    ctarg=[]\n",
    "\n",
    "    for i in range(len(c)):\n",
    "        cdata.append(c[i][1])\n",
    "        ctarg.append((c[i][0]))\n",
    "    return cdata , ctarg"
   ]
  }
 ],
 "metadata": {
  "kernelspec": {
   "display_name": "Python 3",
   "language": "python",
   "name": "python3"
  },
  "language_info": {
   "codemirror_mode": {
    "name": "ipython",
    "version": 3
   },
   "file_extension": ".py",
   "mimetype": "text/x-python",
   "name": "python",
   "nbconvert_exporter": "python",
   "pygments_lexer": "ipython3",
   "version": "3.6.8"
  }
 },
 "nbformat": 4,
 "nbformat_minor": 2
}
