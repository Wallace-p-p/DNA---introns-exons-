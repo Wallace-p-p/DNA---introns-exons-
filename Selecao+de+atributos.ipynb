{
 "cells": [
  {
   "cell_type": "code",
   "execution_count": null,
   "metadata": {
    "collapsed": true
   },
   "outputs": [],
   "source": [
    "#CFS base, indices selecionados atravez do algoritmo Correlation-based Feature Selection pela skfeature\n",
    "import splicenum as sp\n",
    "a, b= sp.splicenum()\n",
    "indices= [29, 31, 28, 30, 34, 27, 32, 33, 24, 22]\n",
    "CFSdata=[]\n",
    "for j in range(len(a)):\n",
    "    vazio1=[]\n",
    "    for i in range(len(indices)):\n",
    "        v= a[j][indices[i]]\n",
    "        vazio1.append(v)\n",
    "    CFSdata.append(vazio1)\n",
    "#data armazenada em CFSdata"
   ]
  },
  {
   "cell_type": "code",
   "execution_count": null,
   "metadata": {
    "collapsed": true
   },
   "outputs": [],
   "source": [
    "#base UCI numerica, filtrada com decision tree classifier da sklearn\n",
    "import splicenum as sp\n",
    "a, b= sp.splicenum()\n",
    "import numpy as np\n",
    "from sklearn import tree\n",
    "clf=tree.DecisionTreeClassifier()\n",
    "clf= clf.fit(a,b)\n",
    "model = SelectFromModel(clf, prefit=True)\n",
    "a = model.transform(a)\n",
    "#data armazenada em a, ja filtrada"
   ]
  }
 ],
 "metadata": {
  "kernelspec": {
   "display_name": "Python 3",
   "language": "python",
   "name": "python3"
  },
  "language_info": {
   "codemirror_mode": {
    "name": "ipython",
    "version": 3
   },
   "file_extension": ".py",
   "mimetype": "text/x-python",
   "name": "python",
   "nbconvert_exporter": "python",
   "pygments_lexer": "ipython3",
   "version": "3.6.8"
  }
 },
 "nbformat": 4,
 "nbformat_minor": 2
}
